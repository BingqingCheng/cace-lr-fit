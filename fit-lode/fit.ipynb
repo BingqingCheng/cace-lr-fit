{
 "cells": [
  {
   "cell_type": "code",
   "execution_count": null,
   "id": "c06b72f7",
   "metadata": {},
   "outputs": [],
   "source": [
    "import numpy as np\n",
    "import matplotlib.pyplot as plt\n",
    "import torch\n",
    "import torch.nn as nn"
   ]
  },
  {
   "cell_type": "code",
   "execution_count": null,
   "id": "5a5faaab",
   "metadata": {},
   "outputs": [],
   "source": [
    "import cace\n",
    "from cace.representations.cace_representation import Cace"
   ]
  },
  {
   "cell_type": "code",
   "execution_count": null,
   "id": "2b78f5f9",
   "metadata": {},
   "outputs": [],
   "source": [
    "from ase.io import read,write"
   ]
  },
  {
   "cell_type": "code",
   "execution_count": null,
   "id": "b4afc8fb",
   "metadata": {},
   "outputs": [],
   "source": [
    "cutoff = 5\n",
    "batch_size = 10"
   ]
  },
  {
   "cell_type": "code",
   "execution_count": null,
   "id": "750e7972",
   "metadata": {},
   "outputs": [],
   "source": [
    "train_xyz_dir = '../lode-datasets/train-id0.xyz'\n",
    "test_xyz_dir = '../lode-datasets/test-id0.xyz'"
   ]
  },
  {
   "cell_type": "code",
   "execution_count": null,
   "id": "7ccc8f8b",
   "metadata": {},
   "outputs": [],
   "source": [
    "train_ase_xyz = read(train_xyz_dir, ':')\n",
    "test_ase_xyz = read(test_xyz_dir, ':')"
   ]
  },
  {
   "cell_type": "code",
   "execution_count": null,
   "id": "2f191877",
   "metadata": {},
   "outputs": [],
   "source": [
    "element_list = cace.tools.get_unique_atomic_number(train_ase_xyz)"
   ]
  },
  {
   "cell_type": "code",
   "execution_count": null,
   "id": "a746a51e",
   "metadata": {},
   "outputs": [],
   "source": [
    "collection = cace.tasks.get_dataset_from_xyz(train_path=train_xyz_dir,\n",
    "                                 valid_path=test_xyz_dir,\n",
    "                                cutoff=cutoff,\n",
    "                                 data_key={'energy': 'inter_energy', \n",
    "                                           'forces': 'forces',\n",
    "                                          'distance': 'distance'},\n",
    "                                            )"
   ]
  },
  {
   "cell_type": "code",
   "execution_count": null,
   "id": "41391e96",
   "metadata": {},
   "outputs": [],
   "source": [
    "train_loader = cace.tasks.load_data_loader(collection=collection,\n",
    "                              data_type='train',\n",
    "                              batch_size=batch_size,\n",
    "                                          )"
   ]
  },
  {
   "cell_type": "code",
   "execution_count": null,
   "id": "b676f59b",
   "metadata": {},
   "outputs": [],
   "source": [
    "valid_loader = cace.tasks.load_data_loader(collection=collection,\n",
    "                              data_type='valid',\n",
    "                              batch_size=batch_size)"
   ]
  },
  {
   "cell_type": "code",
   "execution_count": null,
   "id": "7fc6163f",
   "metadata": {},
   "outputs": [],
   "source": [
    "device = cace.tools.init_device('cpu')"
   ]
  },
  {
   "cell_type": "code",
   "execution_count": null,
   "id": "e59cc4a4",
   "metadata": {},
   "outputs": [],
   "source": [
    "sampled_data = next(iter(valid_loader))"
   ]
  },
  {
   "cell_type": "code",
   "execution_count": null,
   "id": "6eb2e901",
   "metadata": {},
   "outputs": [],
   "source": [
    "sampled_data = sampled_data.to(device)"
   ]
  },
  {
   "cell_type": "code",
   "execution_count": null,
   "id": "4034789d",
   "metadata": {},
   "outputs": [],
   "source": [
    "sampled_data"
   ]
  },
  {
   "cell_type": "code",
   "execution_count": null,
   "id": "32e7c474",
   "metadata": {},
   "outputs": [],
   "source": [
    "from cace.modules import CosineCutoff, MollifierCutoff, PolynomialCutoff\n",
    "from cace.modules import BesselRBF, GaussianRBF, GaussianRBFCentered"
   ]
  },
  {
   "cell_type": "code",
   "execution_count": null,
   "id": "692c8a2f",
   "metadata": {},
   "outputs": [],
   "source": [
    "radial_basis = BesselRBF(cutoff=cutoff, n_rbf=6, trainable=False)\n",
    "cutoff_fn = PolynomialCutoff(cutoff=cutoff, p=5)"
   ]
  },
  {
   "cell_type": "code",
   "execution_count": null,
   "id": "19f97e9d",
   "metadata": {},
   "outputs": [],
   "source": [
    "cace_representation = Cace(\n",
    "    zs=element_list,\n",
    "    n_atom_basis=3,\n",
    "    cutoff=cutoff,\n",
    "    cutoff_fn=cutoff_fn,\n",
    "    radial_basis=radial_basis,\n",
    "    n_radial_basis=8,\n",
    "    max_l=2,\n",
    "    max_nu=2,\n",
    "    num_message_passing=1,\n",
    "    device=device,\n",
    "    timeit=False,\n",
    "    forward_features=['atomic_charge']\n",
    "           )"
   ]
  },
  {
   "cell_type": "code",
   "execution_count": null,
   "id": "d9cb765c-9e5e-4d00-b407-176b9298624f",
   "metadata": {},
   "outputs": [],
   "source": [
    "q = cace.modules.Atomwise(\n",
    "    n_layers=3,\n",
    "    n_hidden=[24,12],\n",
    "    n_out=4,\n",
    "    feature_key = ['node_feats'], \n",
    "    per_atom_output_key='q',\n",
    "    output_key = 'tot_q',\n",
    "    residual=False,\n",
    "    add_linear_nn=False,\n",
    "    bias=True)"
   ]
  },
  {
   "cell_type": "code",
   "execution_count": null,
   "id": "93a92760-6b92-4adc-882f-1c764df6afe3",
   "metadata": {},
   "outputs": [],
   "source": [
    "from cace.modules import EwaldPotential"
   ]
  },
  {
   "cell_type": "code",
   "execution_count": null,
   "id": "1e4a718d-fa8a-47df-9323-f940395b1efc",
   "metadata": {},
   "outputs": [],
   "source": [
    "ep = EwaldPotential(dl=3.,\n",
    "                    sigma=1.0,\n",
    "                    feature_key='q',\n",
    "                    output_key='ewald_potential',\n",
    "                    aggregation_mode='sum')"
   ]
  },
  {
   "cell_type": "code",
   "execution_count": null,
   "id": "8d242ea9-0e90-4117-a7d2-b0fe468ca589",
   "metadata": {},
   "outputs": [],
   "source": [
    "forces_lr = cace.modules.Forces(energy_key='ewald_potential',\n",
    "                                    forces_key='ewald_forces')"
   ]
  },
  {
   "cell_type": "code",
   "execution_count": null,
   "id": "54142124-26c8-4748-ac65-c74e03b2dedf",
   "metadata": {},
   "outputs": [],
   "source": [
    "from cace.models.atomistic import NeuralNetworkPotential"
   ]
  },
  {
   "cell_type": "code",
   "execution_count": null,
   "id": "a6789ace-6f39-4898-a992-3c32146d2d67",
   "metadata": {},
   "outputs": [],
   "source": [
    "nnp_lr = NeuralNetworkPotential(\n",
    "    input_modules=None,\n",
    "    representation=cace_representation,\n",
    "    output_modules=[q, ep, forces_lr]\n",
    ")"
   ]
  },
  {
   "cell_type": "code",
   "execution_count": null,
   "id": "d8336abb",
   "metadata": {},
   "outputs": [],
   "source": [
    "res = nnp_lr(sampled_data)"
   ]
  },
  {
   "cell_type": "code",
   "execution_count": null,
   "id": "c971a504",
   "metadata": {},
   "outputs": [],
   "source": [
    "trainable_params = sum(p.numel() for p in nnp_lr.parameters() if p.requires_grad)\n",
    "print(f\"Number of trainable parameters: {trainable_params}\")"
   ]
  },
  {
   "cell_type": "code",
   "execution_count": null,
   "id": "8c3823d2-301c-45b7-adcd-61feefe2823c",
   "metadata": {},
   "outputs": [],
   "source": [
    "cace_representation(sampled_data)['node_feats'].shape"
   ]
  },
  {
   "cell_type": "code",
   "execution_count": null,
   "id": "13195a04",
   "metadata": {},
   "outputs": [],
   "source": [
    "atomwise = cace.modules.Atomwise(\n",
    "    n_layers=3,\n",
    "    n_hidden=[24,12],\n",
    "    n_out=1,\n",
    "    output_key='CACE_energy_intra',\n",
    "    residual=False,\n",
    "    add_linear_nn=True,\n",
    "    bias=True)"
   ]
  },
  {
   "cell_type": "code",
   "execution_count": null,
   "id": "f70ecb36",
   "metadata": {},
   "outputs": [],
   "source": [
    "forces = cace.modules.Forces(energy_key='CACE_energy_intra',\n",
    "                                    forces_key='CACE_forces_intra')"
   ]
  },
  {
   "cell_type": "code",
   "execution_count": null,
   "id": "3cea892b",
   "metadata": {},
   "outputs": [],
   "source": [
    "from cace.models.atomistic import NeuralNetworkPotential"
   ]
  },
  {
   "cell_type": "code",
   "execution_count": null,
   "id": "09165246",
   "metadata": {},
   "outputs": [],
   "source": [
    "cace_nnp_intra = NeuralNetworkPotential(\n",
    "    input_modules=None,\n",
    "    representation=cace_representation,\n",
    "    output_modules=[atomwise, forces]\n",
    ")"
   ]
  },
  {
   "cell_type": "code",
   "execution_count": null,
   "id": "1369dad7",
   "metadata": {},
   "outputs": [],
   "source": [
    "res = cace_nnp_intra(sampled_data)"
   ]
  },
  {
   "cell_type": "code",
   "execution_count": null,
   "id": "877e1400",
   "metadata": {},
   "outputs": [],
   "source": [
    "sampled_data"
   ]
  },
  {
   "cell_type": "code",
   "execution_count": null,
   "id": "7225b629",
   "metadata": {},
   "outputs": [],
   "source": [
    "from cace.models import CombinePotential"
   ]
  },
  {
   "cell_type": "code",
   "execution_count": null,
   "id": "222dab75",
   "metadata": {},
   "outputs": [],
   "source": [
    "pot1 = {'CACE_energy': 'ewald_potential', \n",
    "        'CACE_forces': 'ewald_forces',\n",
    "        'weight': 1.\n",
    "       }\n",
    "\n",
    "pot2 = {'CACE_energy': 'CACE_energy_intra', \n",
    "        'CACE_forces': 'CACE_forces_intra',\n",
    "       }"
   ]
  },
  {
   "cell_type": "code",
   "execution_count": null,
   "id": "fd937dc0",
   "metadata": {},
   "outputs": [],
   "source": [
    "combo_p = CombinePotential([nnp_lr, cace_nnp_intra], [pot1,pot2])"
   ]
  },
  {
   "cell_type": "code",
   "execution_count": null,
   "id": "5bdc3e8a",
   "metadata": {},
   "outputs": [],
   "source": [
    "from cace.tasks import GetLoss"
   ]
  },
  {
   "cell_type": "code",
   "execution_count": null,
   "id": "0d782978",
   "metadata": {},
   "outputs": [],
   "source": [
    "energy_loss = GetLoss(\n",
    "    target_name='energy',\n",
    "    predict_name='CACE_energy',\n",
    "    loss_fn=torch.nn.MSELoss(),\n",
    "    loss_weight=1\n",
    ")"
   ]
  },
  {
   "cell_type": "code",
   "execution_count": null,
   "id": "ff4cac2b",
   "metadata": {},
   "outputs": [],
   "source": [
    "energy_loss_2 = GetLoss(\n",
    "    target_name='energy',\n",
    "    predict_name='CACE_energy',\n",
    "    loss_fn=torch.nn.MSELoss(),\n",
    "    loss_weight=1000\n",
    ")"
   ]
  },
  {
   "cell_type": "code",
   "execution_count": null,
   "id": "c2100797",
   "metadata": {},
   "outputs": [],
   "source": [
    "energy_loss_3 = GetLoss(\n",
    "    target_name='energy',\n",
    "    predict_name='CACE_energy',\n",
    "    loss_fn=torch.nn.MSELoss(),\n",
    "    loss_weight=10000\n",
    ")"
   ]
  },
  {
   "cell_type": "code",
   "execution_count": null,
   "id": "7564e22e",
   "metadata": {},
   "outputs": [],
   "source": [
    "force_loss = GetLoss(\n",
    "    target_name='forces',\n",
    "    predict_name= 'CACE_forces',\n",
    "    loss_fn=torch.nn.MSELoss(),\n",
    "    loss_weight=1000\n",
    ")"
   ]
  },
  {
   "cell_type": "code",
   "execution_count": null,
   "id": "2a667d87",
   "metadata": {},
   "outputs": [],
   "source": [
    "force_loss_2 = GetLoss(\n",
    "    target_name='forces',\n",
    "    predict_name= 'CACE_forces',\n",
    "    loss_fn=torch.nn.MSELoss(),\n",
    "    loss_weight=100\n",
    ")"
   ]
  },
  {
   "cell_type": "code",
   "execution_count": null,
   "id": "294f2243",
   "metadata": {},
   "outputs": [],
   "source": [
    "from cace.tools import Metrics"
   ]
  },
  {
   "cell_type": "code",
   "execution_count": null,
   "id": "ddc2c091",
   "metadata": {},
   "outputs": [],
   "source": [
    "e_metric = Metrics(\n",
    "    target_name='energy',\n",
    "    predict_name='CACE_energy',\n",
    "    name='e',\n",
    "    per_atom=False\n",
    ")"
   ]
  },
  {
   "cell_type": "code",
   "execution_count": null,
   "id": "a23ccecc",
   "metadata": {},
   "outputs": [],
   "source": [
    "f_metric = Metrics(\n",
    "    target_name='forces',\n",
    "    predict_name='CACE_forces',\n",
    "    name='f'\n",
    ")"
   ]
  },
  {
   "cell_type": "code",
   "execution_count": null,
   "id": "9cc083f1",
   "metadata": {},
   "outputs": [],
   "source": [
    "sampled_dict = sampled_data.to_dict()"
   ]
  },
  {
   "cell_type": "code",
   "execution_count": null,
   "id": "c25f5dac",
   "metadata": {},
   "outputs": [],
   "source": [
    "sampled_data_result = combo_p(sampled_dict, training=True)"
   ]
  },
  {
   "cell_type": "code",
   "execution_count": null,
   "id": "a4100cd0",
   "metadata": {},
   "outputs": [],
   "source": [
    "energy_loss(sampled_data_result, sampled_data)"
   ]
  },
  {
   "cell_type": "code",
   "execution_count": null,
   "id": "248757a4",
   "metadata": {},
   "outputs": [],
   "source": [
    "force_loss(sampled_data_result, sampled_data)"
   ]
  },
  {
   "cell_type": "code",
   "execution_count": null,
   "id": "9ccfcda1",
   "metadata": {},
   "outputs": [],
   "source": [
    "from cace.tasks.train import TrainingTask"
   ]
  },
  {
   "cell_type": "code",
   "execution_count": null,
   "id": "3620e749-7473-4809-a713-297246e142fd",
   "metadata": {},
   "outputs": [],
   "source": [
    "# Example usage\n",
    "\n",
    "optimizer_args = {'lr': 1e-2, 'amsgrad': True}  # step 1\n",
    "#optimizer_args = {'lr': 1e-3, 'amsgrad': True} # step 2\n",
    "scheduler_args = {'step_size': 10, 'gamma': 0.9}  # \n",
    "#scheduler_args = {'mode': 'min', 'factor': 0.8, 'patience': 10}\n",
    "\n",
    "for i in range(12):\n",
    "    \n",
    "    task = TrainingTask(\n",
    "        model=combo_p,\n",
    "        losses=[energy_loss, force_loss],\n",
    "        metrics=[e_metric, f_metric],\n",
    "        device=device,\n",
    "        #optimizer_cls=torch.optim.SGD,\n",
    "        optimizer_args=optimizer_args, \n",
    "        scheduler_cls=torch.optim.lr_scheduler.StepLR, \n",
    "        #scheduler_cls=torch.optim.lr_scheduler.ReduceLROnPlateau, \n",
    "        scheduler_args=scheduler_args,\n",
    "        max_grad_norm=10,\n",
    "        ema=True,\n",
    "        ema_start=10,\n",
    "        warmup_steps=10,\n",
    "    )\n",
    "    \n",
    "    task.fit(train_loader, valid_loader, epochs=300, screen_nan=False, val_stride=10)"
   ]
  },
  {
   "cell_type": "code",
   "execution_count": null,
   "id": "c9e665cc-9950-4a47-9e18-1f645050e838",
   "metadata": {},
   "outputs": [],
   "source": [
    "# Example usage\n",
    "\n",
    "optimizer_args = {'lr': 1e-3, 'amsgrad': True}  # step 1\n",
    "#optimizer_args = {'lr': 1e-3, 'amsgrad': True} # step 2\n",
    "scheduler_args = {'step_size': 20, 'gamma': 0.9}  # \n",
    "#scheduler_args = {'mode': 'min', 'factor': 0.8, 'patience': 10}\n",
    "\n",
    "for i in range(8):\n",
    "    \n",
    "    task = TrainingTask(\n",
    "        model=combo_p,\n",
    "        losses=[energy_loss_2, force_loss],\n",
    "        metrics=[e_metric, f_metric],\n",
    "        device=device,\n",
    "        #optimizer_cls=torch.optim.SGD,\n",
    "        optimizer_args=optimizer_args, \n",
    "        scheduler_cls=torch.optim.lr_scheduler.StepLR, \n",
    "        #scheduler_cls=torch.optim.lr_scheduler.ReduceLROnPlateau, \n",
    "        scheduler_args=scheduler_args,\n",
    "        max_grad_norm=10,\n",
    "        ema=True,\n",
    "        ema_start=10,\n",
    "        warmup_steps=10,\n",
    "    )\n",
    "    \n",
    "    task.fit(train_loader, valid_loader, epochs=400, screen_nan=False, val_stride=10)"
   ]
  },
  {
   "cell_type": "code",
   "execution_count": null,
   "id": "acfc67f2",
   "metadata": {},
   "outputs": [],
   "source": [
    "task.save_model('model.pth')"
   ]
  },
  {
   "cell_type": "code",
   "execution_count": null,
   "id": "93e7b186",
   "metadata": {},
   "outputs": [],
   "source": [
    "evaluator = cace.tasks.EvaluateTask(model_path='model.pth', device='cpu',\n",
    "                                    energy_key='CACE_energy',\n",
    "                                    forces_key='CACE_forces',\n",
    "                                    )"
   ]
  },
  {
   "cell_type": "code",
   "execution_count": null,
   "id": "62ad042b",
   "metadata": {},
   "outputs": [],
   "source": [
    "pred_train = evaluator(train_ase_xyz)\n",
    "pred_test = evaluator(test_ase_xyz)"
   ]
  },
  {
   "cell_type": "code",
   "execution_count": null,
   "id": "62f4b857",
   "metadata": {},
   "outputs": [],
   "source": [
    "train_f_true  = np.array([ xyz.get_array('forces') for xyz in train_ase_xyz]).reshape(-1,3)\n",
    "test_f_true  = np.array([ xyz.get_array('forces') for xyz in test_ase_xyz]).reshape(-1,3)"
   ]
  },
  {
   "cell_type": "code",
   "execution_count": null,
   "id": "9d18d8c8",
   "metadata": {},
   "outputs": [],
   "source": [
    "import matplotlib.pyplot as plt\n",
    "\n",
    "fig, ax1 = plt.subplots(1, figsize=(3, 3))\n",
    "\n",
    "ax1.plot(train_f_true[:,0], pred_train['forces'][:,0], '.', color='blue', label='Train')\n",
    "\n",
    "ax1.plot(test_f_true[:,0], pred_test['forces'][:,0], '.', color='red', label='Test')\n",
    "\n",
    "ax1.set_xlabel('Forces [$eV/\\mathrm{\\AA}$]')\n",
    "\n",
    "ax1.set_ylabel('MLP-LR Forces [$eV/\\mathrm{\\AA}$]')\n",
    "ax1.legend()\n",
    "\n",
    "plt.tight_layout()\n",
    "plt.show()"
   ]
  },
  {
   "cell_type": "code",
   "execution_count": null,
   "id": "8864de25",
   "metadata": {},
   "outputs": [],
   "source": [
    "def get_property(atoms, info_name):\n",
    "    return np.array([a.info[info_name] for a in atoms])"
   ]
  },
  {
   "cell_type": "code",
   "execution_count": null,
   "id": "404065a5",
   "metadata": {},
   "outputs": [],
   "source": [
    "import matplotlib.pyplot as plt\n",
    "\n",
    "fig, ax1 = plt.subplots(1, figsize=(3, 2))\n",
    "\n",
    "# Upper panel\n",
    "ax1.plot(get_property(train_ase_xyz, 'distance'), get_property(train_ase_xyz, 'inter_energy'), \n",
    "         'o',color='blue', markerfacecolor='white')\n",
    "ax1.plot(get_property(test_ase_xyz, 'distance'), get_property(test_ase_xyz, 'inter_energy'), \n",
    "         'o',color='red', markerfacecolor='white', label='True')\n",
    "\n",
    "ax1.plot(get_property(train_ase_xyz, 'distance'), pred_train['energy'], 'x', color='b')\n",
    "ax1.plot(get_property(test_ase_xyz, 'distance'), pred_test['energy'], 'x', color='r', label='MLP-LR')\n",
    "#ax1.set_title('Energy')\n",
    "ax1.set_xlabel('Distance [$\\mathrm{\\AA}$]')\n",
    "\n",
    "ax1.set_ylabel('Energy [eV]')\n",
    "ax1.legend()\n",
    "\n",
    "plt.tight_layout()\n",
    "plt.show()"
   ]
  },
  {
   "cell_type": "code",
   "execution_count": null,
   "id": "e94ab850",
   "metadata": {},
   "outputs": [],
   "source": []
  }
 ],
 "metadata": {
  "kernelspec": {
   "display_name": "Python 3 (ipykernel)",
   "language": "python",
   "name": "python3"
  },
  "language_info": {
   "codemirror_mode": {
    "name": "ipython",
    "version": 3
   },
   "file_extension": ".py",
   "mimetype": "text/x-python",
   "name": "python",
   "nbconvert_exporter": "python",
   "pygments_lexer": "ipython3",
   "version": "3.8.18"
  }
 },
 "nbformat": 4,
 "nbformat_minor": 5
}
