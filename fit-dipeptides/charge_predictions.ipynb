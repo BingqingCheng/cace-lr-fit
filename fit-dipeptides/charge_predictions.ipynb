{
 "cells": [
  {
   "cell_type": "markdown",
   "id": "be17e745-ad74-47ad-82a7-f051effa6b04",
   "metadata": {},
   "source": [
    "## Load Data"
   ]
  },
  {
   "cell_type": "code",
   "execution_count": 1,
   "id": "6b2d96ff-ac33-4a1d-bceb-6837eaade9f4",
   "metadata": {
    "execution": {
     "iopub.execute_input": "2025-06-27T19:42:44.802716Z",
     "iopub.status.busy": "2025-06-27T19:42:44.801907Z",
     "iopub.status.idle": "2025-06-27T19:42:44.825668Z",
     "shell.execute_reply": "2025-06-27T19:42:44.824778Z",
     "shell.execute_reply.started": "2025-06-27T19:42:44.802671Z"
    }
   },
   "outputs": [],
   "source": [
    "%load_ext autoreload\n",
    "%autoreload 2"
   ]
  },
  {
   "cell_type": "code",
   "execution_count": 2,
   "id": "364e6840-ef04-424d-b0e1-4cdb1022f355",
   "metadata": {
    "execution": {
     "iopub.execute_input": "2025-06-27T19:42:44.941329Z",
     "iopub.status.busy": "2025-06-27T19:42:44.940753Z",
     "iopub.status.idle": "2025-06-27T19:42:48.792340Z",
     "shell.execute_reply": "2025-06-27T19:42:48.791389Z",
     "shell.execute_reply.started": "2025-06-27T19:42:44.941297Z"
    }
   },
   "outputs": [
    {
     "name": "stderr",
     "output_type": "stream",
     "text": [
      "/home/king1305/.local/lib/python3.10/site-packages/torchvision/io/image.py:13: UserWarning: Failed to load image Python extension: '/home/king1305/.local/lib/python3.10/site-packages/torchvision/image.so: undefined symbol: _ZN3c1017RegisterOperatorsD1Ev'If you don't plan on using image functionality from `torchvision.io`, you can ignore this warning. Otherwise, there might be something wrong with your environment. Did you have `libjpeg` or `libpng` installed before building `torchvision` from source?\n",
      "  warn(\n"
     ]
    },
    {
     "data": {
      "text/plain": [
       "Batch(atomic_numbers=[45], batch=[45], bec=[45, 9], cell=[3, 3], dipole=[1, 3], edge_index=[2, 718], energy=[1], force=[45, 3], hirsh_charges=[45], hirsh_dipole=[3], hirsh_quadrupole=[3, 3], mbi_charges=[45], mbi_dipole=[3], mbi_quadrupole=[3, 3], mul_charges=[45], mul_dipole=[3], mul_quadrupole=[3, 3], positions=[45, 3], pred_bec=[45, 9], pred_charges=[45], pred_dipole=[3], pred_quadrupole=[3, 3], ptr=[2], quadrupole=[1, 3, 3], shifts=[718, 3], unit_shifts=[718, 3])"
      ]
     },
     "execution_count": 2,
     "metadata": {},
     "output_type": "execute_result"
    }
   ],
   "source": [
    "import torch\n",
    "import numpy as np\n",
    "import matplotlib.pyplot as plt\n",
    "from dipeptides.data import XYZData\n",
    "\n",
    "cutoff = 4.0\n",
    "edata = XYZData(batch_size=1,cutoff=cutoff)\n",
    "atomic_nums = []\n",
    "for batch in edata.val_dataloader():\n",
    "    break\n",
    "batch"
   ]
  },
  {
   "cell_type": "markdown",
   "id": "1a6192de-fea5-4f3f-9428-e7fe7c18501b",
   "metadata": {},
   "source": [
    "## Load Model"
   ]
  },
  {
   "cell_type": "code",
   "execution_count": 3,
   "id": "4c535a17-6e78-47c0-bc9c-978e7527a988",
   "metadata": {
    "execution": {
     "iopub.execute_input": "2025-06-27T19:42:48.794186Z",
     "iopub.status.busy": "2025-06-27T19:42:48.793703Z",
     "iopub.status.idle": "2025-06-27T19:42:48.822190Z",
     "shell.execute_reply": "2025-06-27T19:42:48.821378Z",
     "shell.execute_reply.started": "2025-06-27T19:42:48.794165Z"
    }
   },
   "outputs": [],
   "source": [
    "#Losses\n",
    "import torch\n",
    "from cace.tasks import GetLoss\n",
    "e_loss = GetLoss(\n",
    "    target_name=\"energy\",\n",
    "    predict_name='pred_energy',\n",
    "    loss_fn=torch.nn.MSELoss(),\n",
    "    loss_weight=1,\n",
    ")\n",
    "f_loss = GetLoss(\n",
    "    target_name=\"force\",\n",
    "    predict_name='pred_force',\n",
    "    loss_fn=torch.nn.MSELoss(),\n",
    "    loss_weight=1000,\n",
    ")\n",
    "losses = [e_loss,f_loss]\n",
    "\n",
    "#Metrics\n",
    "from cace.tools import Metrics\n",
    "e_metric = Metrics(\n",
    "            target_name=\"energy\",\n",
    "            predict_name='pred_energy',\n",
    "            name='e',\n",
    "            metric_keys=[\"rmse\"],\n",
    "            per_atom=True,\n",
    "        )\n",
    "f_metric = Metrics(\n",
    "            target_name=\"force\",\n",
    "            predict_name='pred_force',\n",
    "            metric_keys=[\"rmse\"],\n",
    "            name='f',\n",
    "        )\n",
    "metrics = [e_metric,f_metric]"
   ]
  },
  {
   "cell_type": "code",
   "execution_count": 4,
   "id": "19d48a43-180d-43f2-b00c-76f7ba65d0c9",
   "metadata": {
    "execution": {
     "iopub.execute_input": "2025-06-27T19:42:48.823123Z",
     "iopub.status.busy": "2025-06-27T19:42:48.822953Z",
     "iopub.status.idle": "2025-06-27T19:42:50.108719Z",
     "shell.execute_reply": "2025-06-27T19:42:50.107885Z",
     "shell.execute_reply.started": "2025-06-27T19:42:48.823106Z"
    }
   },
   "outputs": [
    {
     "name": "stdout",
     "output_type": "stream",
     "text": [
      "Loading model from models/lr-model.ckpt ...\n",
      "Loading successful!\n"
     ]
    }
   ],
   "source": [
    "from cace.tasks import LightningData, LightningTrainingTask\n",
    "from dipeptides.model import make_cace_lr\n",
    "\n",
    "#LR model\n",
    "lr_model = make_cace_lr(cutoff=cutoff,lr=True)\n",
    "lr_model.cuda()\n",
    "lr_model(batch.cuda())\n",
    "lr_task = LightningTrainingTask(lr_model,losses=losses,metrics=metrics,\n",
    "                             logs_directory=\"model_runs/lightning_logs\",name=\"test\",\n",
    "                             scheduler_args={'mode': 'min', 'factor': 0.8, 'patience': 10},\n",
    "                             optimizer_args={'lr': 0.01},\n",
    "                            )\n",
    "chkpt = \"models/lr-model.ckpt\"\n",
    "lr_task.load(chkpt)\n",
    "lr_task.model.cuda();"
   ]
  },
  {
   "cell_type": "markdown",
   "id": "554f29ed-c50d-4ed6-b3d0-57ced5af52b8",
   "metadata": {},
   "source": [
    "## Make Charges / BEC / Dipoles / Quads"
   ]
  },
  {
   "cell_type": "code",
   "execution_count": 21,
   "id": "dd2c4aa7-82ae-43c8-877b-41d66502689c",
   "metadata": {
    "execution": {
     "iopub.execute_input": "2025-06-24T03:27:20.127777Z",
     "iopub.status.busy": "2025-06-24T03:27:20.127481Z",
     "iopub.status.idle": "2025-06-24T03:28:50.902021Z",
     "shell.execute_reply": "2025-06-24T03:28:50.901151Z",
     "shell.execute_reply.started": "2025-06-24T03:27:20.127753Z"
    }
   },
   "outputs": [],
   "source": [
    "#Generate charges for test and val sets\n",
    "from dsk.pickle import load_pkl\n",
    "import ase\n",
    "import cace\n",
    "import numpy\n",
    "\n",
    "fac = (90.0474)**0.5\n",
    "val_fn = \"data/spice-dipep-dipolar_val.xyz\"\n",
    "test_fn = \"data/spice-dipep-dipolar_test.xyz\"\n",
    "\n",
    "calc_polarization = cace.modules.polarization.Polarization(remove_mean=False)\n",
    "calc_bec = cace.modules.grad.Grad(\n",
    "    y_key = 'polarization',\n",
    "    x_key = 'positions',\n",
    "    output_key = 'bec'\n",
    ")\n",
    "def gen_q_bec(batch):\n",
    "    batch.cuda()\n",
    "    out = lr_task.model.model.forward(batch,training=True)\n",
    "    batch[\"q\"] = out[\"q\"]\n",
    "    batch = calc_polarization(batch)\n",
    "    batch = calc_bec(batch)\n",
    "    pred_bec = batch[\"bec\"].cpu().detach().numpy()\n",
    "    pred_q = (out[\"q\"]/fac).cpu().detach().numpy()\n",
    "    torch.cuda.empty_cache()\n",
    "    return pred_q, pred_bec\n",
    "\n",
    "#Generate for val\n",
    "atms = []\n",
    "for atm, batch in zip(ase.io.iread(val_fn),edata.val_dataloader()):\n",
    "    pred_q, pred_bec = gen_q_bec(batch) \n",
    "    atm.arrays[\"pred_charges\"] = pred_q\n",
    "    atm.arrays[\"pred_bec\"] = pred_bec.reshape(-1,9)\n",
    "    atms += [atm]\n",
    "ase.io.write(val_fn,atms)\n",
    "\n",
    "# #Generate for test\n",
    "atms = []\n",
    "for atm, batch in zip(ase.io.iread(test_fn),edata.test_dataloader()):\n",
    "    pred_q, pred_bec = gen_q_bec(batch) \n",
    "    atm.arrays[\"pred_charges\"] = pred_q\n",
    "    atm.arrays[\"pred_bec\"] = pred_bec.reshape(-1,9)\n",
    "    atms += [atm]\n",
    "ase.io.write(test_fn,atms)"
   ]
  },
  {
   "cell_type": "code",
   "execution_count": 23,
   "id": "6c4a378a-9e93-4624-8650-940f75aa9191",
   "metadata": {
    "execution": {
     "iopub.execute_input": "2025-06-24T03:32:38.058472Z",
     "iopub.status.busy": "2025-06-24T03:32:38.058112Z",
     "iopub.status.idle": "2025-06-24T03:32:38.346121Z",
     "shell.execute_reply": "2025-06-24T03:32:38.345341Z",
     "shell.execute_reply.started": "2025-06-24T03:32:38.058441Z"
    }
   },
   "outputs": [],
   "source": [
    "def calc_dipole_quad(positions,q):\n",
    "    dip = (positions * q[:,None]).sum(axis=0)\n",
    "    rij = positions[:,:,None] * positions[:,None,:]\n",
    "    quad = (q.reshape(-1,1,1) * rij).sum(axis=0)\n",
    "    eye = np.eye(3)\n",
    "    quad = quad - 1/3 * quad.trace()*eye\n",
    "    return dip, quad\n",
    "\n",
    "#Calculate dipoles/quads for val\n",
    "atms = []\n",
    "for atm in ase.io.iread(val_fn):\n",
    "    ks = [k for k in atm.arrays.keys() if \"charges\" in k]\n",
    "    typs = [k.split(\"_\")[0] for k in ks]\n",
    "    positions = atm.arrays[\"positions\"]\n",
    "    for k in ks:\n",
    "        q = atm.arrays[k]\n",
    "        dip, quad = calc_dipole_quad(positions,q)\n",
    "        typ = k.split(\"_\")[0]\n",
    "        atm.info[f\"{typ}_dipole\"] = dip\n",
    "        atm.info[f\"{typ}_quadrupole\"] = quad\n",
    "    atms += [atm]\n",
    "ase.io.write(val_fn,atms)\n",
    "\n",
    "#Calculate dipoles/quads for test\n",
    "atms = []\n",
    "for atm in ase.io.iread(test_fn):\n",
    "    ks = [k for k in atm.arrays.keys() if \"charges\" in k]\n",
    "    typs = [k.split(\"_\")[0] for k in ks]\n",
    "    positions = atm.arrays[\"positions\"]\n",
    "    for k in ks:\n",
    "        q = atm.arrays[k]\n",
    "        dip, quad = calc_dipole_quad(positions,q)\n",
    "        typ = k.split(\"_\")[0]\n",
    "        atm.info[f\"{typ}_dipole\"] = dip\n",
    "        atm.info[f\"{typ}_quadrupole\"] = quad\n",
    "    atms += [atm]\n",
    "ase.io.write(test_fn,atms)"
   ]
  },
  {
   "cell_type": "markdown",
   "id": "6ed0486e-56d0-482e-a39c-05400d4445f3",
   "metadata": {},
   "source": [
    "## Make BEC"
   ]
  },
  {
   "cell_type": "code",
   "execution_count": 27,
   "id": "1a7187d9-851e-430b-94d7-c4967225bbec",
   "metadata": {
    "execution": {
     "iopub.execute_input": "2025-04-11T20:12:02.439557Z",
     "iopub.status.busy": "2025-04-11T20:12:02.439188Z",
     "iopub.status.idle": "2025-04-11T20:12:54.978730Z",
     "shell.execute_reply": "2025-04-11T20:12:54.977571Z",
     "shell.execute_reply.started": "2025-04-11T20:12:02.439522Z"
    }
   },
   "outputs": [],
   "source": [
    "import cace\n",
    "import pandas as pd\n",
    "import numpy as np\n",
    "\n",
    "def calc_bec()\n",
    "\n",
    "#Takes a bit to run\n",
    "class BEC():\n",
    "    def __init__(self,remove_mean=False):\n",
    "        model = lr_task.model.model\n",
    "        model.cuda()\n",
    "\n",
    "        #Remove_mean=False but can also do True, small difference\n",
    "        polarization = cace.modules.polarization.Polarization(remove_mean=remove_mean)        \n",
    "        bec = cace.modules.grad.Grad(\n",
    "            y_key = 'polarization',\n",
    "            x_key = 'positions',\n",
    "            output_key = 'bec'\n",
    "        )\n",
    "\n",
    "        true_bec = []\n",
    "        pred_bec = []\n",
    "        for batch in edata.val_dataloader():\n",
    "            batch_bec = batch[\"bec\"].reshape(batch[\"bec\"].shape[0],3,3)\n",
    "            true_bec.append(batch_bec.cpu().detach().numpy())\n",
    "            \n",
    "            batch.cuda()\n",
    "            out = model.forward(batch,training=True)\n",
    "            batch[\"q\"] = out[\"q\"]\n",
    "            batch = polarization(batch)\n",
    "            batch = bec(batch)\n",
    "            pred_bec.append(batch[\"bec\"].cpu().detach().numpy())\n",
    "            torch.cuda.empty_cache()\n",
    "\n",
    "        self.true_bec = np.vstack(true_bec)\n",
    "        self.pred_bec = np.vstack(pred_bec)\n",
    "\n",
    "obj = BEC\n",
    "\n",
    "\n",
    "#Generate for val\n",
    "atms = []\n",
    "for atm, batch in zip(ase.io.iread(val_fn),edata.val_dataloader()):\n",
    "    batch.cuda()\n",
    "    out = lr_task.model(batch)\n",
    "    pred_q = (out[\"q\"] / fac).detach().cpu().numpy()\n",
    "    torch.cuda.empty_cache()\n",
    "    atm.arrays[\"pred_charges\"] = np.array(pred_q)\n",
    "    atms += [atm]\n",
    "ase.io.write(val_fn,atms)\n",
    "\n",
    "#Generate for test\n",
    "atms = []\n",
    "for atm, batch in zip(ase.io.iread(test_fn),edata.test_dataloader()):\n",
    "    batch.cuda()\n",
    "    out = lr_task.model(batch)\n",
    "    pred_q = (out[\"q\"] / fac).detach().cpu().numpy()\n",
    "    torch.cuda.empty_cache()\n",
    "    atm.arrays[\"pred_charges\"] = np.array(pred_q)\n",
    "    atms += [atm]\n",
    "ase.io.write(test_fn,atms)"
   ]
  },
  {
   "cell_type": "code",
   "execution_count": 30,
   "id": "24d0e0a8-e903-4bbd-9316-fa83078c785c",
   "metadata": {
    "execution": {
     "iopub.execute_input": "2025-04-11T20:13:15.718704Z",
     "iopub.status.busy": "2025-04-11T20:13:15.718215Z",
     "iopub.status.idle": "2025-04-11T20:13:16.220942Z",
     "shell.execute_reply": "2025-04-11T20:13:16.220173Z",
     "shell.execute_reply.started": "2025-04-11T20:13:15.718670Z"
    }
   },
   "outputs": [
    {
     "data": {
      "image/png": "[encoded data removed]",
      "text/plain": [
       "<Figure size 400x350 with 1 Axes>"
      ]
     },
     "metadata": {},
     "output_type": "display_data"
    }
   ],
   "source": [
    "def get_diag(arr,diag=True):\n",
    "    arr = torch.tensor(arr)\n",
    "    mask = torch.zeros_like(arr)\n",
    "    mv = torch.diagonal(mask,dim1=1,dim2=2)\n",
    "    mv += 1\n",
    "    if diag:\n",
    "        return arr[mask.bool()].numpy()\n",
    "    else:\n",
    "        return arr[~mask.bool()].numpy()\n",
    "\n",
    "import scipy\n",
    "djvfont = {'fontname':'DejaVu Sans'}\n",
    "fs=16\n",
    "plt.subplots(figsize=(4,3.5))\n",
    "diag = True\n",
    "truex = get_diag(obj.true_bec,diag=diag)\n",
    "predx = get_diag(obj.pred_bec,diag=diag)\n",
    "xmin = min(np.min(truex),np.min(predx)) - 0.25\n",
    "xmax = max(np.max(truex),np.max(predx)) + 0.25\n",
    "arr = np.arange(xmin,xmax,0.01)\n",
    "r = scipy.stats.pearsonr(truex.ravel(),predx.ravel())[0]\n",
    "r2 = np.round(r**2,3)\n",
    "plt.xlabel(\"$\\omega$B97M-D3BJ\\n@Def2SVP BEC\",fontsize=fs,**djvfont)\n",
    "plt.ylabel(\"LES BEC [e]\",fontsize=fs,**djvfont)\n",
    "plt.xlim(xmin,xmax)\n",
    "plt.ylim(xmin,xmax)\n",
    "plt.scatter(truex,predx)\n",
    "plt.plot(arr,arr,linestyle=\"--\",color=\"grey\")\n",
    "plt.text(-0.5,-1.2,\"$Z_{i \\\\alpha \\\\alpha}^{*} = \\partial \\mathbf{\\mu}_\\\\alpha/\\partial{\\mathbf{r}_{i\\\\alpha}}$\",fontsize=fs,**djvfont)\n",
    "plt.text(0,-1.9,f\"$R^2$ = {r2}\",fontsize=fs,**djvfont)\n",
    "plt.gca().set_aspect('equal')\n",
    "plt.tight_layout()\n",
    "plt.savefig(\"figures/diagonal_bec.png\",dpi=500)"
   ]
  },
  {
   "cell_type": "code",
   "execution_count": 31,
   "id": "784c4c09-b174-4b55-97da-f31948463cf2",
   "metadata": {
    "execution": {
     "iopub.execute_input": "2025-04-11T20:13:18.470466Z",
     "iopub.status.busy": "2025-04-11T20:13:18.470045Z",
     "iopub.status.idle": "2025-04-11T20:13:19.109498Z",
     "shell.execute_reply": "2025-04-11T20:13:19.108537Z",
     "shell.execute_reply.started": "2025-04-11T20:13:18.470441Z"
    }
   },
   "outputs": [
    {
     "data": {
      "image/png": "[encoded data removed]",
      "text/plain": [
       "<Figure size 400x350 with 1 Axes>"
      ]
     },
     "metadata": {},
     "output_type": "display_data"
    }
   ],
   "source": [
    "import scipy\n",
    "djvfont = {'fontname':'DejaVu Sans'}\n",
    "fs=16\n",
    "plt.subplots(figsize=(4,3.5))\n",
    "diag = False\n",
    "truex = get_diag(obj.true_bec,diag=diag)\n",
    "predx = get_diag(obj.pred_bec,diag=diag)\n",
    "xmin = -2.190323031838511\n",
    "xmax = 2.49442159708481\n",
    "arr = np.arange(xmin,xmax,0.01)\n",
    "r = scipy.stats.pearsonr(truex.ravel(),predx.ravel())[0]\n",
    "r2 = np.round(r**2,3)\n",
    "plt.xlabel(\"$\\omega$B97M-D3BJ\\n@Def2SVP BEC\",fontsize=fs,**djvfont)\n",
    "plt.ylabel(\"LES BEC [e]\",fontsize=fs,**djvfont)\n",
    "plt.xlim(xmin,xmax)\n",
    "plt.ylim(xmin,xmax)\n",
    "plt.scatter(truex,predx)\n",
    "plt.plot(arr,arr,linestyle=\"--\",color=\"grey\")\n",
    "plt.text(-0.5,-1.2,\"$Z_{i \\\\alpha \\\\beta}^{*} = \\partial \\mathbf{\\mu}_\\\\alpha/\\partial{\\mathbf{r}_{i\\\\beta}}$\",fontsize=fs,**djvfont)\n",
    "plt.text(0,-1.9,f\"$R^2$ = {r2}\",fontsize=fs,**djvfont)\n",
    "plt.gca().set_aspect('equal')\n",
    "plt.tight_layout()\n",
    "plt.savefig(\"figures/nondiagonal_bec.png\",dpi=500)"
   ]
  },
  {
   "cell_type": "code",
   "execution_count": null,
   "id": "7f01ef43-b98d-4eda-bd3b-244af23b1b00",
   "metadata": {},
   "outputs": [],
   "source": []
  }
 ],
 "metadata": {
  "kernelspec": {
   "display_name": "Python 3 (ipykernel)",
   "language": "python",
   "name": "python3"
  },
  "language_info": {
   "codemirror_mode": {
    "name": "ipython",
    "version": 3
   },
   "file_extension": ".py",
   "mimetype": "text/x-python",
   "name": "python",
   "nbconvert_exporter": "python",
   "pygments_lexer": "ipython3",
   "version": "3.10.12"
  }
 },
 "nbformat": 4,
 "nbformat_minor": 5
}
