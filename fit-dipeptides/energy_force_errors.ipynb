{
 "cells": [
  {
   "cell_type": "markdown",
   "id": "be17e745-ad74-47ad-82a7-f051effa6b04",
   "metadata": {},
   "source": [
    "## Load Data"
   ]
  },
  {
   "cell_type": "code",
   "execution_count": 1,
   "id": "6b2d96ff-ac33-4a1d-bceb-6837eaade9f4",
   "metadata": {
    "execution": {
     "iopub.execute_input": "2025-06-27T21:02:37.174768Z",
     "iopub.status.busy": "2025-06-27T21:02:37.174327Z",
     "iopub.status.idle": "2025-06-27T21:02:37.201416Z",
     "shell.execute_reply": "2025-06-27T21:02:37.200107Z",
     "shell.execute_reply.started": "2025-06-27T21:02:37.174736Z"
    }
   },
   "outputs": [],
   "source": [
    "%load_ext autoreload\n",
    "%autoreload 2"
   ]
  },
  {
   "cell_type": "code",
   "execution_count": 2,
   "id": "364e6840-ef04-424d-b0e1-4cdb1022f355",
   "metadata": {
    "execution": {
     "iopub.execute_input": "2025-06-27T21:02:37.206164Z",
     "iopub.status.busy": "2025-06-27T21:02:37.205128Z",
     "iopub.status.idle": "2025-06-27T21:02:41.101359Z",
     "shell.execute_reply": "2025-06-27T21:02:41.100586Z",
     "shell.execute_reply.started": "2025-06-27T21:02:37.206126Z"
    }
   },
   "outputs": [
    {
     "name": "stderr",
     "output_type": "stream",
     "text": [
      "/home/king1305/.local/lib/python3.10/site-packages/torchvision/io/image.py:13: UserWarning: Failed to load image Python extension: '/home/king1305/.local/lib/python3.10/site-packages/torchvision/image.so: undefined symbol: _ZN3c1017RegisterOperatorsD1Ev'If you don't plan on using image functionality from `torchvision.io`, you can ignore this warning. Otherwise, there might be something wrong with your environment. Did you have `libjpeg` or `libpng` installed before building `torchvision` from source?\n",
      "  warn(\n"
     ]
    },
    {
     "data": {
      "text/plain": [
       "Batch(atomic_numbers=[187], batch=[187], bec=[187, 9], cell=[12, 3], dipole=[4, 3], edge_index=[2, 3078], energy=[4], force=[187, 3], hirsh_charges=[187], hirsh_dipole=[12], hirsh_quadrupole=[12, 3], mbi_charges=[187], mbi_dipole=[12], mbi_quadrupole=[12, 3], mul_charges=[187], mul_dipole=[12], mul_quadrupole=[12, 3], positions=[187, 3], pred_bec=[187, 9], pred_charges=[187], pred_dipole=[12], pred_quadrupole=[12, 3], ptr=[5], quadrupole=[4, 3, 3], shifts=[3078, 3], unit_shifts=[3078, 3])"
      ]
     },
     "execution_count": 2,
     "metadata": {},
     "output_type": "execute_result"
    }
   ],
   "source": [
    "import torch\n",
    "import numpy as np\n",
    "import matplotlib.pyplot as plt\n",
    "from dipeptides.data import XYZData\n",
    "\n",
    "cutoff = 4.0\n",
    "edata = XYZData(batch_size=4,cutoff=cutoff)\n",
    "atomic_nums = []\n",
    "for batch in edata.val_dataloader():\n",
    "    break\n",
    "batch"
   ]
  },
  {
   "cell_type": "markdown",
   "id": "1a6192de-fea5-4f3f-9428-e7fe7c18501b",
   "metadata": {},
   "source": [
    "## Load Model"
   ]
  },
  {
   "cell_type": "code",
   "execution_count": 3,
   "id": "4c535a17-6e78-47c0-bc9c-978e7527a988",
   "metadata": {
    "execution": {
     "iopub.execute_input": "2025-06-27T21:02:41.109722Z",
     "iopub.status.busy": "2025-06-27T21:02:41.109559Z",
     "iopub.status.idle": "2025-06-27T21:02:41.137540Z",
     "shell.execute_reply": "2025-06-27T21:02:41.136844Z",
     "shell.execute_reply.started": "2025-06-27T21:02:41.109701Z"
    }
   },
   "outputs": [],
   "source": [
    "#Losses\n",
    "import torch\n",
    "from cace.tasks import GetLoss\n",
    "e_loss = GetLoss(\n",
    "    target_name=\"energy\",\n",
    "    predict_name='pred_energy',\n",
    "    loss_fn=torch.nn.MSELoss(),\n",
    "    loss_weight=1,\n",
    ")\n",
    "f_loss = GetLoss(\n",
    "    target_name=\"force\",\n",
    "    predict_name='pred_force',\n",
    "    loss_fn=torch.nn.MSELoss(),\n",
    "    loss_weight=1000,\n",
    ")\n",
    "losses = [e_loss,f_loss]\n",
    "\n",
    "#Metrics\n",
    "from cace.tools import Metrics\n",
    "e_metric = Metrics(\n",
    "            target_name=\"energy\",\n",
    "            predict_name='pred_energy',\n",
    "            name='e',\n",
    "            metric_keys=[\"rmse\"],\n",
    "            per_atom=True,\n",
    "        )\n",
    "f_metric = Metrics(\n",
    "            target_name=\"force\",\n",
    "            predict_name='pred_force',\n",
    "            metric_keys=[\"rmse\"],\n",
    "            name='f',\n",
    "        )\n",
    "metrics = [e_metric,f_metric]"
   ]
  },
  {
   "cell_type": "code",
   "execution_count": 4,
   "id": "43a01594-f260-4a82-8d39-08afe637e570",
   "metadata": {
    "execution": {
     "iopub.execute_input": "2025-06-27T21:02:41.138449Z",
     "iopub.status.busy": "2025-06-27T21:02:41.138283Z",
     "iopub.status.idle": "2025-06-27T21:02:42.302038Z",
     "shell.execute_reply": "2025-06-27T21:02:42.301333Z",
     "shell.execute_reply.started": "2025-06-27T21:02:41.138431Z"
    }
   },
   "outputs": [
    {
     "name": "stdout",
     "output_type": "stream",
     "text": [
      "Loading model from models/sr-model.ckpt ...\n",
      "Loading successful!\n"
     ]
    }
   ],
   "source": [
    "from cace.tasks import LightningData, LightningTrainingTask\n",
    "from dipeptides.model import make_cace_lr\n",
    "\n",
    "#LR model\n",
    "sr_model = make_cace_lr(cutoff=cutoff,lr=False)\n",
    "sr_model.cuda()\n",
    "sr_model(batch.cuda())\n",
    "sr_task = LightningTrainingTask(sr_model,losses=losses,metrics=metrics,\n",
    "                             logs_directory=\"model_runs/lightning_logs\",name=\"test\",\n",
    "                             scheduler_args={'mode': 'min', 'factor': 0.8, 'patience': 10},\n",
    "                             optimizer_args={'lr': 0.01},\n",
    "                            )\n",
    "chkpt = \"models/sr-model.ckpt\"\n",
    "sr_task.load(chkpt)\n",
    "sr_task.model.cuda();"
   ]
  },
  {
   "cell_type": "code",
   "execution_count": 5,
   "id": "19d48a43-180d-43f2-b00c-76f7ba65d0c9",
   "metadata": {
    "execution": {
     "iopub.execute_input": "2025-06-27T21:02:42.303024Z",
     "iopub.status.busy": "2025-06-27T21:02:42.302850Z",
     "iopub.status.idle": "2025-06-27T21:02:43.088340Z",
     "shell.execute_reply": "2025-06-27T21:02:43.087681Z",
     "shell.execute_reply.started": "2025-06-27T21:02:42.303004Z"
    }
   },
   "outputs": [
    {
     "name": "stdout",
     "output_type": "stream",
     "text": [
      "Loading model from models/lr-model.ckpt ...\n",
      "Loading successful!\n"
     ]
    }
   ],
   "source": [
    "from cace.tasks import LightningData, LightningTrainingTask\n",
    "from dipeptides.model import make_cace_lr\n",
    "\n",
    "#LR model\n",
    "lr_model = make_cace_lr(cutoff=cutoff,lr=True)\n",
    "lr_model.cuda()\n",
    "lr_model(batch.cuda())\n",
    "lr_task = LightningTrainingTask(lr_model,losses=losses,metrics=metrics,\n",
    "                             logs_directory=\"model_runs/lightning_logs\",name=\"test\",\n",
    "                             scheduler_args={'mode': 'min', 'factor': 0.8, 'patience': 10},\n",
    "                             optimizer_args={'lr': 0.01},\n",
    "                            )\n",
    "chkpt = \"models/lr-model.ckpt\"\n",
    "lr_task.load(chkpt)\n",
    "lr_task.model.cuda();"
   ]
  },
  {
   "cell_type": "markdown",
   "id": "f3a42686-6d00-428b-89ea-3c0480ddad73",
   "metadata": {},
   "source": [
    "## Energy & Force Errors"
   ]
  },
  {
   "cell_type": "code",
   "execution_count": 6,
   "id": "e776ad5f-da6a-42a6-9919-214a236cad44",
   "metadata": {
    "execution": {
     "iopub.execute_input": "2025-06-27T21:02:15.386658Z",
     "iopub.status.busy": "2025-06-27T21:02:15.386225Z",
     "iopub.status.idle": "2025-06-27T21:02:15.409350Z",
     "shell.execute_reply": "2025-06-27T21:02:15.408561Z",
     "shell.execute_reply.started": "2025-06-27T21:02:15.386637Z"
    }
   },
   "outputs": [],
   "source": [
    "#NOTE:\n",
    "#Confirmed to work with https://github.com/dking072/cace.git\n",
    "#Hash ad93b84a298cc2ef280adda64fdef2e3c31f8ece\n",
    "#Future adjustments to Ewald seem to break the long range "
   ]
  },
  {
   "cell_type": "code",
   "execution_count": 7,
   "id": "1f44b173-4cb4-4a36-bbba-b5617d2fd82a",
   "metadata": {
    "execution": {
     "iopub.execute_input": "2025-06-27T21:02:15.410281Z",
     "iopub.status.busy": "2025-06-27T21:02:15.410113Z",
     "iopub.status.idle": "2025-06-27T21:02:25.803290Z",
     "shell.execute_reply": "2025-06-27T21:02:25.802547Z",
     "shell.execute_reply.started": "2025-06-27T21:02:15.410263Z"
    }
   },
   "outputs": [
    {
     "data": {
      "text/html": [
       "<div>\n",
       "<style scoped>\n",
       "    .dataframe tbody tr th:only-of-type {\n",
       "        vertical-align: middle;\n",
       "    }\n",
       "\n",
       "    .dataframe tbody tr th {\n",
       "        vertical-align: top;\n",
       "    }\n",
       "\n",
       "    .dataframe thead th {\n",
       "        text-align: right;\n",
       "    }\n",
       "</style>\n",
       "<table border=\"1\" class=\"dataframe\">\n",
       "  <thead>\n",
       "    <tr style=\"text-align: right;\">\n",
       "      <th></th>\n",
       "      <th>CACE-LR test</th>\n",
       "      <th>CACE-SR test</th>\n",
       "    </tr>\n",
       "  </thead>\n",
       "  <tbody>\n",
       "    <tr>\n",
       "      <th>E</th>\n",
       "      <td>0.001878</td>\n",
       "      <td>0.002354</td>\n",
       "    </tr>\n",
       "    <tr>\n",
       "      <th>F</th>\n",
       "      <td>0.061126</td>\n",
       "      <td>0.072430</td>\n",
       "    </tr>\n",
       "  </tbody>\n",
       "</table>\n",
       "</div>"
      ],
      "text/plain": [
       "   CACE-LR test  CACE-SR test\n",
       "E      0.001878      0.002354\n",
       "F      0.061126      0.072430"
      ]
     },
     "execution_count": 7,
     "metadata": {},
     "output_type": "execute_result"
    }
   ],
   "source": [
    "import pandas as pd\n",
    "df = pd.DataFrame()\n",
    "\n",
    "batch_all = {}\n",
    "sr_all = {}\n",
    "lr_all = {}\n",
    "for batch in edata.test_dataloader():\n",
    "    batch.cuda()\n",
    "    lr_out = lr_task.model.model.forward(batch,training=False)\n",
    "    sr_out = sr_task.model.model.forward(batch,training=False)\n",
    "    for k in [\"pred_energy\",\"pred_force\"]:\n",
    "        if k not in sr_all:\n",
    "            sr_all[k] = []\n",
    "        if k not in lr_all:\n",
    "            lr_all[k] = []\n",
    "        lr_all[k].append(lr_out[k])\n",
    "        sr_all[k].append(sr_out[k])\n",
    "    for k in [\"energy\",\"force\"]:\n",
    "        if k not in batch_all:\n",
    "            batch_all[k] = []\n",
    "        batch_all[k].append(batch[k])\n",
    "\n",
    "for k in [\"pred_energy\"]:\n",
    "    lr_all[k] = torch.hstack(lr_all[k])\n",
    "    sr_all[k] = torch.hstack(sr_all[k])\n",
    "for k in [\"pred_force\"]:\n",
    "    lr_all[k] = torch.vstack(lr_all[k])\n",
    "    sr_all[k] = torch.vstack(sr_all[k])\n",
    "for k in [\"energy\"]:\n",
    "    batch_all[k] = torch.hstack(batch_all[k])\n",
    "for k in [\"force\"]:\n",
    "    batch_all[k] = torch.vstack(batch_all[k])\n",
    "\n",
    "edata_all = edata = XYZData(batch_size=100000,cutoff=cutoff)\n",
    "for batch in edata_all.test_dataloader():\n",
    "    batch_all[\"batch\"] = batch[\"batch\"].cuda()\n",
    "    break\n",
    "\n",
    "import pandas as pd\n",
    "df = pd.DataFrame()\n",
    "df.loc[\"E\",\"CACE-LR test\"] = e_metric(lr_all,batch_all)[\"rmse\"].item()\n",
    "df.loc[\"F\",\"CACE-LR test\"] = f_metric(lr_all,batch_all)[\"rmse\"].item()\n",
    "df.loc[\"E\",\"CACE-SR test\"] = e_metric(sr_all,batch_all)[\"rmse\"].item()\n",
    "df.loc[\"F\",\"CACE-SR test\"] = f_metric(sr_all,batch_all)[\"rmse\"].item()\n",
    "torch.cuda.empty_cache()\n",
    "df"
   ]
  },
  {
   "cell_type": "code",
   "execution_count": 6,
   "id": "22f0eac9-0bfd-4e5c-8614-1f80ca1874c0",
   "metadata": {
    "execution": {
     "iopub.execute_input": "2025-06-27T21:02:43.091045Z",
     "iopub.status.busy": "2025-06-27T21:02:43.090886Z",
     "iopub.status.idle": "2025-06-27T21:02:53.918920Z",
     "shell.execute_reply": "2025-06-27T21:02:53.918183Z",
     "shell.execute_reply.started": "2025-06-27T21:02:43.091027Z"
    }
   },
   "outputs": [
    {
     "data": {
      "text/html": [
       "<div>\n",
       "<style scoped>\n",
       "    .dataframe tbody tr th:only-of-type {\n",
       "        vertical-align: middle;\n",
       "    }\n",
       "\n",
       "    .dataframe tbody tr th {\n",
       "        vertical-align: top;\n",
       "    }\n",
       "\n",
       "    .dataframe thead th {\n",
       "        text-align: right;\n",
       "    }\n",
       "</style>\n",
       "<table border=\"1\" class=\"dataframe\">\n",
       "  <thead>\n",
       "    <tr style=\"text-align: right;\">\n",
       "      <th></th>\n",
       "      <th>CACE-LR val</th>\n",
       "      <th>CACE-SR val</th>\n",
       "    </tr>\n",
       "  </thead>\n",
       "  <tbody>\n",
       "    <tr>\n",
       "      <th>E</th>\n",
       "      <td>0.001289</td>\n",
       "      <td>0.001969</td>\n",
       "    </tr>\n",
       "    <tr>\n",
       "      <th>F</th>\n",
       "      <td>0.053149</td>\n",
       "      <td>0.058815</td>\n",
       "    </tr>\n",
       "  </tbody>\n",
       "</table>\n",
       "</div>"
      ],
      "text/plain": [
       "   CACE-LR val  CACE-SR val\n",
       "E     0.001289     0.001969\n",
       "F     0.053149     0.058815"
      ]
     },
     "execution_count": 6,
     "metadata": {},
     "output_type": "execute_result"
    }
   ],
   "source": [
    "import pandas as pd\n",
    "df = pd.DataFrame()\n",
    "\n",
    "batch_all = {}\n",
    "sr_all = {}\n",
    "lr_all = {}\n",
    "for batch in edata.val_dataloader():\n",
    "    batch.cuda()\n",
    "    lr_out = lr_task.model(batch)\n",
    "    sr_out = sr_task.model(batch)\n",
    "    for k in [\"pred_energy\",\"pred_force\"]:\n",
    "        if k not in sr_all:\n",
    "            sr_all[k] = []\n",
    "        if k not in lr_all:\n",
    "            lr_all[k] = []\n",
    "        lr_all[k].append(lr_out[k])\n",
    "        sr_all[k].append(sr_out[k])\n",
    "    for k in [\"energy\",\"force\"]:\n",
    "        if k not in batch_all:\n",
    "            batch_all[k] = []\n",
    "        batch_all[k].append(batch[k])\n",
    "\n",
    "for k in [\"pred_energy\"]:\n",
    "    lr_all[k] = torch.hstack(lr_all[k])\n",
    "    sr_all[k] = torch.hstack(sr_all[k])\n",
    "for k in [\"pred_force\"]:\n",
    "    lr_all[k] = torch.vstack(lr_all[k])\n",
    "    sr_all[k] = torch.vstack(sr_all[k])\n",
    "for k in [\"energy\"]:\n",
    "    batch_all[k] = torch.hstack(batch_all[k])\n",
    "for k in [\"force\"]:\n",
    "    batch_all[k] = torch.vstack(batch_all[k])\n",
    "\n",
    "edata_all = edata = XYZData(batch_size=100000,cutoff=cutoff)\n",
    "for batch in edata_all.val_dataloader():\n",
    "    batch_all[\"batch\"] = batch[\"batch\"].cuda()\n",
    "    break\n",
    "\n",
    "import pandas as pd\n",
    "df = pd.DataFrame()\n",
    "df.loc[\"E\",\"CACE-LR val\"] = e_metric(lr_all,batch_all)[\"rmse\"].item()\n",
    "df.loc[\"F\",\"CACE-LR val\"] = f_metric(lr_all,batch_all)[\"rmse\"].item()\n",
    "df.loc[\"E\",\"CACE-SR val\"] = e_metric(sr_all,batch_all)[\"rmse\"].item()\n",
    "df.loc[\"F\",\"CACE-SR val\"] = f_metric(sr_all,batch_all)[\"rmse\"].item()\n",
    "torch.cuda.empty_cache()\n",
    "df"
   ]
  }
 ],
 "metadata": {
  "kernelspec": {
   "display_name": "Python 3 (ipykernel)",
   "language": "python",
   "name": "python3"
  },
  "language_info": {
   "codemirror_mode": {
    "name": "ipython",
    "version": 3
   },
   "file_extension": ".py",
   "mimetype": "text/x-python",
   "name": "python",
   "nbconvert_exporter": "python",
   "pygments_lexer": "ipython3",
   "version": "3.10.12"
  }
 },
 "nbformat": 4,
 "nbformat_minor": 5
}
