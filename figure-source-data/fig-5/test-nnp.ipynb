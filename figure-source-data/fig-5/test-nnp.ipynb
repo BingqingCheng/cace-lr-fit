{
 "cells": [
  {
   "cell_type": "code",
   "execution_count": 1,
   "id": "bda6b2b4",
   "metadata": {},
   "outputs": [],
   "source": [
    "import numpy as np\n",
    "import matplotlib.pyplot as plt\n",
    "import torch\n",
    "import torch.nn as nn"
   ]
  },
  {
   "cell_type": "code",
   "execution_count": 2,
   "id": "cb050c89-b071-4759-83ae-470ea71c050a",
   "metadata": {},
   "outputs": [],
   "source": [
    "import ase\n",
    "from ase import Atoms\n",
    "from ase.optimize import FIRE\n",
    "from ase.io import read,write\n",
    "from ase.constraints import FixAtoms"
   ]
  },
  {
   "cell_type": "code",
   "execution_count": 3,
   "id": "8e5f9f64-3af2-40ad-b2e8-64769defe1b3",
   "metadata": {},
   "outputs": [],
   "source": [
    "from copy import deepcopy"
   ]
  },
  {
   "cell_type": "code",
   "execution_count": 4,
   "id": "e3072221",
   "metadata": {},
   "outputs": [],
   "source": [
    "from matplotlib import cm"
   ]
  },
  {
   "cell_type": "code",
   "execution_count": 5,
   "id": "91fb8191",
   "metadata": {},
   "outputs": [],
   "source": [
    "import cace\n",
    "from cace.representations.cace_representation import Cace"
   ]
  },
  {
   "cell_type": "code",
   "execution_count": 6,
   "id": "40f9976f",
   "metadata": {},
   "outputs": [],
   "source": [
    "from cace.tools import to_numpy"
   ]
  },
  {
   "cell_type": "code",
   "execution_count": 8,
   "id": "ff5e9e0b-ca98-45d7-b504-4aee2e0cd111",
   "metadata": {},
   "outputs": [],
   "source": [
    "from cace.calculators import CACECalculator"
   ]
  },
  {
   "cell_type": "code",
   "execution_count": 28,
   "id": "69b01c9f",
   "metadata": {},
   "outputs": [],
   "source": [
    "dir_now = './fit-Au-MgO-Al-sr/'\n",
    "#dir_now = './fit-Au-MgO-Al/'"
   ]
  },
  {
   "cell_type": "code",
   "execution_count": 29,
   "id": "b7eac9ae-406f-46c4-a40f-849e3bbfe531",
   "metadata": {},
   "outputs": [],
   "source": [
    "calculator = CACECalculator(model_path=dir_now+'best_model.pth',\n",
    "                            device='cpu', \n",
    "                            energy_key='CACE_energy', \n",
    "                            forces_key='CACE_forces',\n",
    "                            #atomic_energies={8: -18599.43617104475, 12: -8721.75974245582, 13: -9877.676428588728, 79: -688.8680063349827},\n",
    "                           compute_stress=False)"
   ]
  },
  {
   "cell_type": "code",
   "execution_count": 12,
   "id": "64a879c7",
   "metadata": {},
   "outputs": [],
   "source": [
    "atomic_energies={8: -18599.43617104475, 12: -8721.75974245582, 13: -9877.676428588728, 79: -688.8680063349827}"
   ]
  },
  {
   "cell_type": "code",
   "execution_count": 12,
   "id": "bfa6400c",
   "metadata": {},
   "outputs": [],
   "source": [
    "# 1: non-wetting\n",
    "# 3: wetting"
   ]
  },
  {
   "cell_type": "code",
   "execution_count": 14,
   "id": "a1deef4e-c794-4588-9efc-645d722c4a49",
   "metadata": {},
   "outputs": [
    {
     "name": "stdout",
     "output_type": "stream",
     "text": [
      "1-doped DFT energy: -0.8413328193128109\n",
      "1-doped CACE energy: -0.8671999\n",
      "--\n",
      "3-doped DFT energy: -0.9082728298380971\n",
      "3-doped CACE energy: -0.9377692\n",
      "--\n",
      "1-undoped DFT energy: -1.3590977899730206\n",
      "1-undoped CACE energy: -1.4050766\n",
      "--\n",
      "3-undoped DFT energy: -0.4242778222542256\n",
      "3-undoped CACE energy: -0.47373503\n",
      "--\n"
     ]
    }
   ],
   "source": [
    "for configs in ['1-doped', '3-doped', '1-undoped', '3-undoped']:\n",
    "    test_xyz = ase.io.read('./dft-optimized-struct/'+configs+'.xyz', '0')\n",
    "    energy_offset = 0.0\n",
    "    atomic_numbers = test_xyz.get_atomic_numbers()\n",
    "    energy_offset -= sum(atomic_energies.get(Z, 0) for Z in atomic_numbers)\n",
    "    print(configs, \"DFT energy:\", test_xyz.info['energy'] + energy_offset)\n",
    "\n",
    "    substrate_index = [atom.index for atom in test_xyz if atom.symbol in ['Mg', 'O', 'Al']]\n",
    "    au_index = [atom.index for atom in test_xyz if atom.symbol in ['Au']]\n",
    "\n",
    "    atoms = deepcopy(test_xyz)\n",
    "\n",
    "    # relax\n",
    "    atoms.set_calculator(calculator)\n",
    "\n",
    "\n",
    "    c = FixAtoms(indices=substrate_index)\n",
    "\n",
    "    atoms.set_constraint(c)\n",
    "\n",
    "\n",
    "    # Perform geometry optimization\n",
    "    opt = FIRE(atoms, logfile=None)\n",
    "\n",
    "    run = opt.run(fmax=0.01, steps=500)  # Adjust fmax yfor convergence criteria\n",
    "\n",
    "    write(dir_now+'relaxated-'+configs+'.xyz', atoms)\n",
    "\n",
    "    print(configs, \"CACE energy:\", atoms.get_potential_energy()[0])\n",
    "    print(\"--\")"
   ]
  },
  {
   "cell_type": "code",
   "execution_count": 16,
   "id": "c17461a6",
   "metadata": {},
   "outputs": [
    {
     "data": {
      "text/plain": [
       "-0.0669400105252862"
      ]
     },
     "execution_count": 16,
     "metadata": {},
     "output_type": "execute_result"
    }
   ],
   "source": [
    "-0.9082728298380971 - -0.8413328193128109"
   ]
  },
  {
   "cell_type": "code",
   "execution_count": 17,
   "id": "612312b9-a9a5-4d10-b854-a05df064267b",
   "metadata": {},
   "outputs": [
    {
     "data": {
      "text/plain": [
       "-0.07056929999999995"
      ]
     },
     "execution_count": 17,
     "metadata": {},
     "output_type": "execute_result"
    }
   ],
   "source": [
    " -0.9377692 - -0.8671999"
   ]
  },
  {
   "cell_type": "code",
   "execution_count": 18,
   "id": "0ee1aa4c-20bd-484e-ab2d-1003e6ea4336",
   "metadata": {},
   "outputs": [
    {
     "data": {
      "text/plain": [
       "-0.9348199677187949"
      ]
     },
     "execution_count": 18,
     "metadata": {},
     "output_type": "execute_result"
    }
   ],
   "source": [
    "-1.3590977899730206 - -0.4242778222542256"
   ]
  },
  {
   "cell_type": "code",
   "execution_count": 19,
   "id": "5424f435-d3bf-43e9-b1fd-5ce02550f795",
   "metadata": {},
   "outputs": [
    {
     "data": {
      "text/plain": [
       "-0.9313415699999998"
      ]
     },
     "execution_count": 19,
     "metadata": {},
     "output_type": "execute_result"
    }
   ],
   "source": [
    "-1.4050766 - -0.47373503"
   ]
  },
  {
   "cell_type": "raw",
   "id": "f5d6e767",
   "metadata": {},
   "source": [
    "evaluator = cace.tasks.EvaluateTask(model_path=dir_now+'best_model.pth', device='cpu',\n",
    "                                    energy_key='CACE_energy',\n",
    "                                    forces_key='CACE_forces',\n",
    "                                    )"
   ]
  },
  {
   "cell_type": "raw",
   "id": "e0984785",
   "metadata": {},
   "source": [
    "for configs in ['1-doped', '3-doped', '1-undoped', '3-undoped']:\n",
    "    test_xyz = ase.io.read(dir_now+'relaxated-'+configs+'.xyz', ':')\n",
    "    test_result = evaluator(test_xyz[:], batch_size=1, \n",
    "                            keep_q=True,\n",
    "                            xyz_output=dir_now+'q-relaxated-'+configs+'.xyz')\n",
    "\n",
    "    test_xyz = ase.io.read(dir_now+'q-relaxated-'+configs+'.xyz', ':')\n",
    "    q = test_xyz[0].arrays['q']\n",
    "    q_scaled = q / 9.489\n",
    "\n",
    "    test_xyz[0].set_array('q_scaled', q_scaled)\n",
    "\n",
    "    write(dir_now+'q-relaxated-'+configs+'.xyz', test_xyz)"
   ]
  },
  {
   "cell_type": "code",
   "execution_count": 81,
   "id": "ac2fac12",
   "metadata": {},
   "outputs": [
    {
     "data": {
      "text/plain": [
       "-0.009622252999999999"
      ]
     },
     "execution_count": 81,
     "metadata": {},
     "output_type": "execute_result"
    }
   ],
   "source": [
    "doped1_xyz[0].arrays['q_scaled'].mean()"
   ]
  },
  {
   "cell_type": "code",
   "execution_count": 82,
   "id": "1e070990",
   "metadata": {},
   "outputs": [],
   "source": [
    "num='3'\n",
    "\n",
    "doped1_xyz = ase.io.read(dir_now+'q-relaxated-'+num+'-doped.xyz', ':')\n",
    "undoped1_xyz = ase.io.read(dir_now+'q-relaxated-'+num+'-undoped.xyz', ':')\n",
    "\n",
    "\n",
    "q_dif = doped1_xyz[0].arrays['initial_charges'] - undoped1_xyz[0].arrays['initial_charges']\n",
    "\n",
    "doped1_xyz[0].set_array('dope_charge_dif', q_dif)\n",
    "\n",
    "q_dif = doped1_xyz[0].arrays['q_scaled'] - undoped1_xyz[0].arrays['q_scaled']\n",
    "\n",
    "doped1_xyz[0].set_array('dope_q_scaled_dif', q_dif)\n",
    "\n",
    "write(dir_now+'q-relaxated-'+num+'-doped.xyz', doped1_xyz[0])"
   ]
  },
  {
   "cell_type": "code",
   "execution_count": 30,
   "id": "cff2b1b0",
   "metadata": {},
   "outputs": [],
   "source": [
    "dis_e_list = []\n",
    "max_step = 40\n",
    "for i in range(max_step):\n",
    "    atoms = read(dir_now+'relaxated-1-undoped.xyz','0')\n",
    "    atoms.set_calculator(calculator)\n",
    "    displacement = (i - max_step/2) * 0.01\n",
    "    atoms.positions[au_index, 2] += displacement\n",
    "    AuO_dis = 10.58354436 - atoms.positions[108,2]\n",
    "    dis_e_list.append([AuO_dis, atoms.get_potential_energy()[0]])"
   ]
  },
  {
   "cell_type": "code",
   "execution_count": 31,
   "id": "13a867a5",
   "metadata": {},
   "outputs": [],
   "source": [
    "dis_e_list_doped = []\n",
    "max_step = 40\n",
    "for i in range(max_step):\n",
    "    atoms = read(dir_now+'relaxated-1-doped.xyz','0')\n",
    "    atoms.set_calculator(calculator)\n",
    "    displacement = (i - max_step/2) * 0.01\n",
    "    atoms.positions[au_index, 2] += displacement\n",
    "    AuO_dis = 10.58354436 - atoms.positions[108,2] \n",
    "    dis_e_list_doped.append([AuO_dis, atoms.get_potential_energy()[0]])"
   ]
  },
  {
   "cell_type": "code",
   "execution_count": 32,
   "id": "26973ae6",
   "metadata": {},
   "outputs": [],
   "source": [
    "dis_e_list = np.array(dis_e_list)\n",
    "dis_e_list_doped = np.array(dis_e_list_doped)"
   ]
  },
  {
   "cell_type": "code",
   "execution_count": 26,
   "id": "449f6315",
   "metadata": {},
   "outputs": [],
   "source": [
    "result_undoped = {}\n",
    "result_doped = {}"
   ]
  },
  {
   "cell_type": "code",
   "execution_count": 33,
   "id": "daa37206",
   "metadata": {},
   "outputs": [],
   "source": [
    "result_undoped['sr'] = dis_e_list\n",
    "result_doped['sr'] = dis_e_list_doped"
   ]
  },
  {
   "cell_type": "code",
   "execution_count": 27,
   "id": "0feca417",
   "metadata": {},
   "outputs": [],
   "source": [
    "result_undoped['lr'] = dis_e_list\n",
    "result_doped['lr'] = dis_e_list_doped"
   ]
  },
  {
   "cell_type": "code",
   "execution_count": 35,
   "id": "db927c97-c5e8-45f8-89bd-c6ac3f845e52",
   "metadata": {},
   "outputs": [],
   "source": [
    "# Save the dictionary with numpy arrays\n",
    "np.savez('energy-bondlength-undoped.npz', **result_undoped)\n",
    "np.savez('energy-bondlength-doped.npz', **result_doped)\n",
    "\n",
    "# To load the dictionary back\n",
    "#loaded_data = np.load('data_file.npz')"
   ]
  },
  {
   "cell_type": "code",
   "execution_count": 21,
   "id": "c466e013-4d9a-455f-a50e-acbab34e81aa",
   "metadata": {},
   "outputs": [
    {
     "data": {
      "text/plain": [
       "2.329964689999999"
      ]
     },
     "execution_count": 21,
     "metadata": {},
     "output_type": "execute_result"
    }
   ],
   "source": [
    "configs = '1-doped'\n",
    "atoms = ase.io.read('./dft-optimized-struct/'+configs+'.xyz', '0')\n",
    "10.58354436 - atoms.positions[108,2] "
   ]
  },
  {
   "cell_type": "code",
   "execution_count": 22,
   "id": "170fb372-c600-4182-b09f-5edb8e692802",
   "metadata": {},
   "outputs": [
    {
     "data": {
      "text/plain": [
       "2.1883280099999993"
      ]
     },
     "execution_count": 22,
     "metadata": {},
     "output_type": "execute_result"
    }
   ],
   "source": [
    "configs = '1-undoped'\n",
    "atoms = ase.io.read('./dft-optimized-struct/'+configs+'.xyz', '0')\n",
    "10.58354436 - atoms.positions[108,2] "
   ]
  },
  {
   "cell_type": "code",
   "execution_count": 51,
   "id": "fbe3428b",
   "metadata": {},
   "outputs": [
    {
     "data": {
      "image/png": "[encoded data removed]",
      "text/plain": [
       "<Figure size 400x240 with 1 Axes>"
      ]
     },
     "metadata": {},
     "output_type": "display_data"
    }
   ],
   "source": [
    "fig, ax = plt.subplots(figsize=(4, 2.4))\n",
    "\n",
    "ax.plot(result_undoped['sr'][:,0], result_undoped['sr'][:,1], 'b-', label='SR undoped')\n",
    "ax.plot(result_doped['sr'][:,0], result_doped['sr'][:,1],'b--', label='SR doped')\n",
    "\n",
    "ax.plot(result_undoped['lr'][:,0], result_undoped['lr'][:,1], 'r-', label='LR undoped')\n",
    "ax.plot(result_doped['lr'][:,0], result_doped['lr'][:,1],'r--', label='LR doped')\n",
    "\n",
    "ax.scatter([2.177], [-1.3794519070070237], marker='o',c='k', label='DFT undoped') # DFT undoped\n",
    "ax.scatter([2.332], [-0.8419586813542992], marker='s', c='k', label='DFT doped') #DFT doped\n",
    "\n",
    "ax.set_xlabel('Au-O bond length [$\\mathrm{\\AA}$]')\n",
    "ax.set_ylabel('energy [eV]')\n",
    "\n",
    "ax.legend(ncol=3, fontsize=10, bbox_to_anchor=(1.05, 1.32),columnspacing=0.5, frameon=False,handlelength=1.3, handletextpad=0.1)\n",
    "\n",
    "\n",
    "fig.savefig('Au-MgO-energy.pdf', dpi=300,\n",
    "            bbox_inches='tight', \n",
    "               transparent=True,)"
   ]
  },
  {
   "cell_type": "code",
   "execution_count": null,
   "id": "ca90a83f",
   "metadata": {},
   "outputs": [],
   "source": []
  }
 ],
 "metadata": {
  "kernelspec": {
   "display_name": "Python 3 (ipykernel)",
   "language": "python",
   "name": "python3"
  },
  "language_info": {
   "codemirror_mode": {
    "name": "ipython",
    "version": 3
   },
   "file_extension": ".py",
   "mimetype": "text/x-python",
   "name": "python",
   "nbconvert_exporter": "python",
   "pygments_lexer": "ipython3",
   "version": "3.8.16"
  }
 },
 "nbformat": 4,
 "nbformat_minor": 5
}
